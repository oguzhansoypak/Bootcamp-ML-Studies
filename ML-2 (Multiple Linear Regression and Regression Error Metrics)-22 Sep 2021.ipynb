{
 "cells": [
  {
   "cell_type": "markdown",
   "id": "687bdab9",
   "metadata": {},
   "source": [
    "# Multiple Linear Regression and Regression Error Metrics"
   ]
  },
  {
   "cell_type": "markdown",
   "id": "87e833a0",
   "metadata": {},
   "source": [
    "## Import library"
   ]
  },
  {
   "cell_type": "code",
   "execution_count": 1,
   "id": "8f2eb36e",
   "metadata": {},
   "outputs": [],
   "source": [
    "import numpy as np\n",
    "import pandas as pd\n",
    "import matplotlib.pyplot as plt\n",
    "import seaborn as sns\n",
    "import scipy.stats as stats\n",
    "plt.rcParams[\"figure.figsize\"] = (10,6)\n",
    "import warnings\n",
    "warnings.filterwarnings('ignore')"
   ]
  },
  {
   "cell_type": "markdown",
   "id": "8c7f34d7",
   "metadata": {},
   "source": [
    "## Read Dataset"
   ]
  },
  {
   "cell_type": "code",
   "execution_count": 2,
   "id": "3cb52c0f",
   "metadata": {},
   "outputs": [
    {
     "data": {
      "text/html": [
       "<div>\n",
       "<style scoped>\n",
       "    .dataframe tbody tr th:only-of-type {\n",
       "        vertical-align: middle;\n",
       "    }\n",
       "\n",
       "    .dataframe tbody tr th {\n",
       "        vertical-align: top;\n",
       "    }\n",
       "\n",
       "    .dataframe thead th {\n",
       "        text-align: right;\n",
       "    }\n",
       "</style>\n",
       "<table border=\"1\" class=\"dataframe\">\n",
       "  <thead>\n",
       "    <tr style=\"text-align: right;\">\n",
       "      <th></th>\n",
       "      <th>TV</th>\n",
       "      <th>radio</th>\n",
       "      <th>newspaper</th>\n",
       "      <th>sales</th>\n",
       "    </tr>\n",
       "  </thead>\n",
       "  <tbody>\n",
       "    <tr>\n",
       "      <th>0</th>\n",
       "      <td>230.1</td>\n",
       "      <td>37.8</td>\n",
       "      <td>69.2</td>\n",
       "      <td>22.1</td>\n",
       "    </tr>\n",
       "    <tr>\n",
       "      <th>1</th>\n",
       "      <td>44.5</td>\n",
       "      <td>39.3</td>\n",
       "      <td>45.1</td>\n",
       "      <td>10.4</td>\n",
       "    </tr>\n",
       "    <tr>\n",
       "      <th>2</th>\n",
       "      <td>17.2</td>\n",
       "      <td>45.9</td>\n",
       "      <td>69.3</td>\n",
       "      <td>9.3</td>\n",
       "    </tr>\n",
       "    <tr>\n",
       "      <th>3</th>\n",
       "      <td>151.5</td>\n",
       "      <td>41.3</td>\n",
       "      <td>58.5</td>\n",
       "      <td>18.5</td>\n",
       "    </tr>\n",
       "    <tr>\n",
       "      <th>4</th>\n",
       "      <td>180.8</td>\n",
       "      <td>10.8</td>\n",
       "      <td>58.4</td>\n",
       "      <td>12.9</td>\n",
       "    </tr>\n",
       "    <tr>\n",
       "      <th>...</th>\n",
       "      <td>...</td>\n",
       "      <td>...</td>\n",
       "      <td>...</td>\n",
       "      <td>...</td>\n",
       "    </tr>\n",
       "    <tr>\n",
       "      <th>195</th>\n",
       "      <td>38.2</td>\n",
       "      <td>3.7</td>\n",
       "      <td>13.8</td>\n",
       "      <td>7.6</td>\n",
       "    </tr>\n",
       "    <tr>\n",
       "      <th>196</th>\n",
       "      <td>94.2</td>\n",
       "      <td>4.9</td>\n",
       "      <td>8.1</td>\n",
       "      <td>9.7</td>\n",
       "    </tr>\n",
       "    <tr>\n",
       "      <th>197</th>\n",
       "      <td>177.0</td>\n",
       "      <td>9.3</td>\n",
       "      <td>6.4</td>\n",
       "      <td>12.8</td>\n",
       "    </tr>\n",
       "    <tr>\n",
       "      <th>198</th>\n",
       "      <td>283.6</td>\n",
       "      <td>42.0</td>\n",
       "      <td>66.2</td>\n",
       "      <td>25.5</td>\n",
       "    </tr>\n",
       "    <tr>\n",
       "      <th>199</th>\n",
       "      <td>232.1</td>\n",
       "      <td>8.6</td>\n",
       "      <td>8.7</td>\n",
       "      <td>13.4</td>\n",
       "    </tr>\n",
       "  </tbody>\n",
       "</table>\n",
       "<p>200 rows × 4 columns</p>\n",
       "</div>"
      ],
      "text/plain": [
       "        TV  radio  newspaper  sales\n",
       "0    230.1   37.8       69.2   22.1\n",
       "1     44.5   39.3       45.1   10.4\n",
       "2     17.2   45.9       69.3    9.3\n",
       "3    151.5   41.3       58.5   18.5\n",
       "4    180.8   10.8       58.4   12.9\n",
       "..     ...    ...        ...    ...\n",
       "195   38.2    3.7       13.8    7.6\n",
       "196   94.2    4.9        8.1    9.7\n",
       "197  177.0    9.3        6.4   12.8\n",
       "198  283.6   42.0       66.2   25.5\n",
       "199  232.1    8.6        8.7   13.4\n",
       "\n",
       "[200 rows x 4 columns]"
      ]
     },
     "execution_count": 2,
     "metadata": {},
     "output_type": "execute_result"
    }
   ],
   "source": [
    "df = pd.read_csv(\"Advertising.csv\")\n",
    "df"
   ]
  },
  {
   "cell_type": "markdown",
   "id": "01e3baed",
   "metadata": {},
   "source": [
    "## Data Preparation"
   ]
  },
  {
   "cell_type": "code",
   "execution_count": 3,
   "id": "7f86c0d9",
   "metadata": {},
   "outputs": [
    {
     "data": {
      "text/plain": [
       "(200, 4)"
      ]
     },
     "execution_count": 3,
     "metadata": {},
     "output_type": "execute_result"
    }
   ],
   "source": [
    "df.shape"
   ]
  },
  {
   "cell_type": "code",
   "execution_count": 4,
   "id": "817702b1",
   "metadata": {},
   "outputs": [
    {
     "name": "stdout",
     "output_type": "stream",
     "text": [
      "<class 'pandas.core.frame.DataFrame'>\n",
      "RangeIndex: 200 entries, 0 to 199\n",
      "Data columns (total 4 columns):\n",
      " #   Column     Non-Null Count  Dtype  \n",
      "---  ------     --------------  -----  \n",
      " 0   TV         200 non-null    float64\n",
      " 1   radio      200 non-null    float64\n",
      " 2   newspaper  200 non-null    float64\n",
      " 3   sales      200 non-null    float64\n",
      "dtypes: float64(4)\n",
      "memory usage: 6.4 KB\n"
     ]
    }
   ],
   "source": [
    "df.info()"
   ]
  },
  {
   "cell_type": "code",
   "execution_count": 5,
   "id": "e87b5701",
   "metadata": {},
   "outputs": [
    {
     "data": {
      "text/html": [
       "<div>\n",
       "<style scoped>\n",
       "    .dataframe tbody tr th:only-of-type {\n",
       "        vertical-align: middle;\n",
       "    }\n",
       "\n",
       "    .dataframe tbody tr th {\n",
       "        vertical-align: top;\n",
       "    }\n",
       "\n",
       "    .dataframe thead th {\n",
       "        text-align: right;\n",
       "    }\n",
       "</style>\n",
       "<table border=\"1\" class=\"dataframe\">\n",
       "  <thead>\n",
       "    <tr style=\"text-align: right;\">\n",
       "      <th></th>\n",
       "      <th>TV</th>\n",
       "      <th>radio</th>\n",
       "      <th>newspaper</th>\n",
       "      <th>sales</th>\n",
       "    </tr>\n",
       "  </thead>\n",
       "  <tbody>\n",
       "    <tr>\n",
       "      <th>count</th>\n",
       "      <td>200.000000</td>\n",
       "      <td>200.000000</td>\n",
       "      <td>200.000000</td>\n",
       "      <td>200.000000</td>\n",
       "    </tr>\n",
       "    <tr>\n",
       "      <th>mean</th>\n",
       "      <td>147.042500</td>\n",
       "      <td>23.264000</td>\n",
       "      <td>30.554000</td>\n",
       "      <td>14.022500</td>\n",
       "    </tr>\n",
       "    <tr>\n",
       "      <th>std</th>\n",
       "      <td>85.854236</td>\n",
       "      <td>14.846809</td>\n",
       "      <td>21.778621</td>\n",
       "      <td>5.217457</td>\n",
       "    </tr>\n",
       "    <tr>\n",
       "      <th>min</th>\n",
       "      <td>0.700000</td>\n",
       "      <td>0.000000</td>\n",
       "      <td>0.300000</td>\n",
       "      <td>1.600000</td>\n",
       "    </tr>\n",
       "    <tr>\n",
       "      <th>25%</th>\n",
       "      <td>74.375000</td>\n",
       "      <td>9.975000</td>\n",
       "      <td>12.750000</td>\n",
       "      <td>10.375000</td>\n",
       "    </tr>\n",
       "    <tr>\n",
       "      <th>50%</th>\n",
       "      <td>149.750000</td>\n",
       "      <td>22.900000</td>\n",
       "      <td>25.750000</td>\n",
       "      <td>12.900000</td>\n",
       "    </tr>\n",
       "    <tr>\n",
       "      <th>75%</th>\n",
       "      <td>218.825000</td>\n",
       "      <td>36.525000</td>\n",
       "      <td>45.100000</td>\n",
       "      <td>17.400000</td>\n",
       "    </tr>\n",
       "    <tr>\n",
       "      <th>max</th>\n",
       "      <td>296.400000</td>\n",
       "      <td>49.600000</td>\n",
       "      <td>114.000000</td>\n",
       "      <td>27.000000</td>\n",
       "    </tr>\n",
       "  </tbody>\n",
       "</table>\n",
       "</div>"
      ],
      "text/plain": [
       "               TV       radio   newspaper       sales\n",
       "count  200.000000  200.000000  200.000000  200.000000\n",
       "mean   147.042500   23.264000   30.554000   14.022500\n",
       "std     85.854236   14.846809   21.778621    5.217457\n",
       "min      0.700000    0.000000    0.300000    1.600000\n",
       "25%     74.375000    9.975000   12.750000   10.375000\n",
       "50%    149.750000   22.900000   25.750000   12.900000\n",
       "75%    218.825000   36.525000   45.100000   17.400000\n",
       "max    296.400000   49.600000  114.000000   27.000000"
      ]
     },
     "execution_count": 5,
     "metadata": {},
     "output_type": "execute_result"
    }
   ],
   "source": [
    "df.describe()"
   ]
  },
  {
   "cell_type": "code",
   "execution_count": 8,
   "id": "06079938",
   "metadata": {},
   "outputs": [],
   "source": [
    "def check_dist(df, var):\n",
    "    plt.subplot(1, 2, 1)\n",
    "    sns.histplot(x=var, data=df, kde=True)\n",
    "    plt.subplot(1, 2, 2)\n",
    "    stats.probplot(df[var], dist=\"norm\", plot=plt)\n",
    "    plt.show()"
   ]
  },
  {
   "cell_type": "code",
   "execution_count": 9,
   "id": "beb6130f",
   "metadata": {},
   "outputs": [
    {
     "data": {
      "image/png": "[encoded data removed]",
      "text/plain": [
       "<Figure size 720x432 with 2 Axes>"
      ]
     },
     "metadata": {
      "needs_background": "light"
     },
     "output_type": "display_data"
    },
    {
     "data": {
      "image/png": "[encoded data removed]",
      "text/plain": [
       "<Figure size 720x432 with 2 Axes>"
      ]
     },
     "metadata": {
      "needs_background": "light"
     },
     "output_type": "display_data"
    },
    {
     "data": {
      "image/png": "[encoded data removed]",
      "text/plain": [
       "<Figure size 720x432 with 2 Axes>"
      ]
     },
     "metadata": {
      "needs_background": "light"
     },
     "output_type": "display_data"
    }
   ],
   "source": [
    "for col in df.drop(\"sales\", axis=1).columns:\n",
    "    check_dist(df, col)"
   ]
  },
  {
   "cell_type": "code",
   "execution_count": 10,
   "id": "f8e72d44",
   "metadata": {},
   "outputs": [
    {
     "name": "stdout",
     "output_type": "stream",
     "text": [
      "TV -0.06932836662244649\n",
      "radio 0.0934668451108453\n",
      "newspaper 0.8879959753085498\n"
     ]
    }
   ],
   "source": [
    "from scipy.stats import skew\n",
    "for i in df.drop(columns=\"sales\").columns:\n",
    "    print(i, skew(df[i]))"
   ]
  },
  {
   "cell_type": "code",
   "execution_count": 11,
   "id": "ccfc03e7",
   "metadata": {},
   "outputs": [
    {
     "data": {
      "image/png": "[encoded data removed]",
      "text/plain": [
       "<Figure size 720x720 with 20 Axes>"
      ]
     },
     "metadata": {
      "needs_background": "light"
     },
     "output_type": "display_data"
    }
   ],
   "source": [
    "sns.pairplot(df);"
   ]
  },
  {
   "cell_type": "code",
   "execution_count": 12,
   "id": "f19c9c66",
   "metadata": {},
   "outputs": [
    {
     "data": {
      "text/html": [
       "<div>\n",
       "<style scoped>\n",
       "    .dataframe tbody tr th:only-of-type {\n",
       "        vertical-align: middle;\n",
       "    }\n",
       "\n",
       "    .dataframe tbody tr th {\n",
       "        vertical-align: top;\n",
       "    }\n",
       "\n",
       "    .dataframe thead th {\n",
       "        text-align: right;\n",
       "    }\n",
       "</style>\n",
       "<table border=\"1\" class=\"dataframe\">\n",
       "  <thead>\n",
       "    <tr style=\"text-align: right;\">\n",
       "      <th></th>\n",
       "      <th>TV</th>\n",
       "      <th>radio</th>\n",
       "      <th>newspaper</th>\n",
       "      <th>sales</th>\n",
       "    </tr>\n",
       "  </thead>\n",
       "  <tbody>\n",
       "    <tr>\n",
       "      <th>TV</th>\n",
       "      <td>1.000000</td>\n",
       "      <td>0.054809</td>\n",
       "      <td>0.056648</td>\n",
       "      <td>0.782224</td>\n",
       "    </tr>\n",
       "    <tr>\n",
       "      <th>radio</th>\n",
       "      <td>0.054809</td>\n",
       "      <td>1.000000</td>\n",
       "      <td>0.354104</td>\n",
       "      <td>0.576223</td>\n",
       "    </tr>\n",
       "    <tr>\n",
       "      <th>newspaper</th>\n",
       "      <td>0.056648</td>\n",
       "      <td>0.354104</td>\n",
       "      <td>1.000000</td>\n",
       "      <td>0.228299</td>\n",
       "    </tr>\n",
       "    <tr>\n",
       "      <th>sales</th>\n",
       "      <td>0.782224</td>\n",
       "      <td>0.576223</td>\n",
       "      <td>0.228299</td>\n",
       "      <td>1.000000</td>\n",
       "    </tr>\n",
       "  </tbody>\n",
       "</table>\n",
       "</div>"
      ],
      "text/plain": [
       "                 TV     radio  newspaper     sales\n",
       "TV         1.000000  0.054809   0.056648  0.782224\n",
       "radio      0.054809  1.000000   0.354104  0.576223\n",
       "newspaper  0.056648  0.354104   1.000000  0.228299\n",
       "sales      0.782224  0.576223   0.228299  1.000000"
      ]
     },
     "execution_count": 12,
     "metadata": {},
     "output_type": "execute_result"
    }
   ],
   "source": [
    "df.corr()"
   ]
  },
  {
   "cell_type": "code",
   "execution_count": 14,
   "id": "a99f4579",
   "metadata": {},
   "outputs": [
    {
     "data": {
      "text/plain": [
       "<AxesSubplot:>"
      ]
     },
     "execution_count": 14,
     "metadata": {},
     "output_type": "execute_result"
    },
    {
     "data": {
      "image/png": "[encoded data removed]",
      "text/plain": [
       "<Figure size 720x432 with 2 Axes>"
      ]
     },
     "metadata": {
      "needs_background": "light"
     },
     "output_type": "display_data"
    }
   ],
   "source": [
    "sns.heatmap(df.corr(), annot=True)"
   ]
  },
  {
   "cell_type": "code",
   "execution_count": null,
   "id": "15a1d0cb",
   "metadata": {},
   "outputs": [],
   "source": []
  },
  {
   "cell_type": "markdown",
   "id": "9ca14a9f",
   "metadata": {},
   "source": [
    "## Train-Test Split"
   ]
  },
  {
   "cell_type": "code",
   "execution_count": 15,
   "id": "fef86975",
   "metadata": {},
   "outputs": [],
   "source": [
    "X = df.drop(columns=\"sales\")  # df[[\"TV\", \"radio\", \"newspaper\"]]\n",
    "y = df[\"sales\"]"
   ]
  },
  {
   "cell_type": "code",
   "execution_count": 18,
   "id": "f3690120",
   "metadata": {},
   "outputs": [],
   "source": [
    "from sklearn.model_selection import train_test_split"
   ]
  },
  {
   "cell_type": "code",
   "execution_count": 19,
   "id": "fa2b09ea",
   "metadata": {},
   "outputs": [],
   "source": [
    "X_train, X_test, y_train, y_test = train_test_split(X, y, test_size=0.3, random_state=42)"
   ]
  },
  {
   "cell_type": "code",
   "execution_count": 20,
   "id": "895aa53f",
   "metadata": {},
   "outputs": [
    {
     "data": {
      "text/html": [
       "<div>\n",
       "<style scoped>\n",
       "    .dataframe tbody tr th:only-of-type {\n",
       "        vertical-align: middle;\n",
       "    }\n",
       "\n",
       "    .dataframe tbody tr th {\n",
       "        vertical-align: top;\n",
       "    }\n",
       "\n",
       "    .dataframe thead th {\n",
       "        text-align: right;\n",
       "    }\n",
       "</style>\n",
       "<table border=\"1\" class=\"dataframe\">\n",
       "  <thead>\n",
       "    <tr style=\"text-align: right;\">\n",
       "      <th></th>\n",
       "      <th>TV</th>\n",
       "      <th>radio</th>\n",
       "      <th>newspaper</th>\n",
       "      <th>sales</th>\n",
       "    </tr>\n",
       "  </thead>\n",
       "  <tbody>\n",
       "    <tr>\n",
       "      <th>189</th>\n",
       "      <td>18.7</td>\n",
       "      <td>12.1</td>\n",
       "      <td>23.4</td>\n",
       "      <td>6.7</td>\n",
       "    </tr>\n",
       "    <tr>\n",
       "      <th>44</th>\n",
       "      <td>25.1</td>\n",
       "      <td>25.7</td>\n",
       "      <td>43.3</td>\n",
       "      <td>8.5</td>\n",
       "    </tr>\n",
       "    <tr>\n",
       "      <th>90</th>\n",
       "      <td>134.3</td>\n",
       "      <td>4.9</td>\n",
       "      <td>9.3</td>\n",
       "      <td>11.2</td>\n",
       "    </tr>\n",
       "    <tr>\n",
       "      <th>139</th>\n",
       "      <td>184.9</td>\n",
       "      <td>43.9</td>\n",
       "      <td>1.7</td>\n",
       "      <td>20.7</td>\n",
       "    </tr>\n",
       "    <tr>\n",
       "      <th>89</th>\n",
       "      <td>109.8</td>\n",
       "      <td>47.8</td>\n",
       "      <td>51.4</td>\n",
       "      <td>16.7</td>\n",
       "    </tr>\n",
       "    <tr>\n",
       "      <th>114</th>\n",
       "      <td>78.2</td>\n",
       "      <td>46.8</td>\n",
       "      <td>34.5</td>\n",
       "      <td>14.6</td>\n",
       "    </tr>\n",
       "    <tr>\n",
       "      <th>158</th>\n",
       "      <td>11.7</td>\n",
       "      <td>36.9</td>\n",
       "      <td>45.2</td>\n",
       "      <td>7.3</td>\n",
       "    </tr>\n",
       "    <tr>\n",
       "      <th>153</th>\n",
       "      <td>171.3</td>\n",
       "      <td>39.7</td>\n",
       "      <td>37.7</td>\n",
       "      <td>19.0</td>\n",
       "    </tr>\n",
       "    <tr>\n",
       "      <th>66</th>\n",
       "      <td>31.5</td>\n",
       "      <td>24.6</td>\n",
       "      <td>2.2</td>\n",
       "      <td>9.5</td>\n",
       "    </tr>\n",
       "    <tr>\n",
       "      <th>148</th>\n",
       "      <td>38.0</td>\n",
       "      <td>40.3</td>\n",
       "      <td>11.9</td>\n",
       "      <td>10.9</td>\n",
       "    </tr>\n",
       "    <tr>\n",
       "      <th>144</th>\n",
       "      <td>96.2</td>\n",
       "      <td>14.8</td>\n",
       "      <td>38.9</td>\n",
       "      <td>11.4</td>\n",
       "    </tr>\n",
       "    <tr>\n",
       "      <th>154</th>\n",
       "      <td>187.8</td>\n",
       "      <td>21.1</td>\n",
       "      <td>9.5</td>\n",
       "      <td>15.6</td>\n",
       "    </tr>\n",
       "    <tr>\n",
       "      <th>33</th>\n",
       "      <td>265.6</td>\n",
       "      <td>20.0</td>\n",
       "      <td>0.3</td>\n",
       "      <td>17.4</td>\n",
       "    </tr>\n",
       "    <tr>\n",
       "      <th>160</th>\n",
       "      <td>172.5</td>\n",
       "      <td>18.1</td>\n",
       "      <td>30.7</td>\n",
       "      <td>14.4</td>\n",
       "    </tr>\n",
       "    <tr>\n",
       "      <th>178</th>\n",
       "      <td>276.7</td>\n",
       "      <td>2.3</td>\n",
       "      <td>23.7</td>\n",
       "      <td>11.8</td>\n",
       "    </tr>\n",
       "  </tbody>\n",
       "</table>\n",
       "</div>"
      ],
      "text/plain": [
       "        TV  radio  newspaper  sales\n",
       "189   18.7   12.1       23.4    6.7\n",
       "44    25.1   25.7       43.3    8.5\n",
       "90   134.3    4.9        9.3   11.2\n",
       "139  184.9   43.9        1.7   20.7\n",
       "89   109.8   47.8       51.4   16.7\n",
       "114   78.2   46.8       34.5   14.6\n",
       "158   11.7   36.9       45.2    7.3\n",
       "153  171.3   39.7       37.7   19.0\n",
       "66    31.5   24.6        2.2    9.5\n",
       "148   38.0   40.3       11.9   10.9\n",
       "144   96.2   14.8       38.9   11.4\n",
       "154  187.8   21.1        9.5   15.6\n",
       "33   265.6   20.0        0.3   17.4\n",
       "160  172.5   18.1       30.7   14.4\n",
       "178  276.7    2.3       23.7   11.8"
      ]
     },
     "execution_count": 20,
     "metadata": {},
     "output_type": "execute_result"
    }
   ],
   "source": [
    "df.sample(15)"
   ]
  },
  {
   "cell_type": "code",
   "execution_count": 21,
   "id": "d6fa39a4",
   "metadata": {},
   "outputs": [
    {
     "name": "stdout",
     "output_type": "stream",
     "text": [
      "Train features shape :  (140, 3)\n",
      "Train target shape   :  (140,)\n",
      "Test features shape  :  (60, 3)\n",
      "Test target shape    :  (60,)\n"
     ]
    }
   ],
   "source": [
    "print(\"Train features shape : \", X_train.shape)\n",
    "print(\"Train target shape   : \", y_train.shape)\n",
    "print(\"Test features shape  : \", X_test.shape)\n",
    "print(\"Test target shape    : \", y_test.shape)"
   ]
  },
  {
   "cell_type": "code",
   "execution_count": 22,
   "id": "a2560e7b",
   "metadata": {},
   "outputs": [
    {
     "data": {
      "text/html": [
       "<div>\n",
       "<style scoped>\n",
       "    .dataframe tbody tr th:only-of-type {\n",
       "        vertical-align: middle;\n",
       "    }\n",
       "\n",
       "    .dataframe tbody tr th {\n",
       "        vertical-align: top;\n",
       "    }\n",
       "\n",
       "    .dataframe thead th {\n",
       "        text-align: right;\n",
       "    }\n",
       "</style>\n",
       "<table border=\"1\" class=\"dataframe\">\n",
       "  <thead>\n",
       "    <tr style=\"text-align: right;\">\n",
       "      <th></th>\n",
       "      <th>TV</th>\n",
       "      <th>radio</th>\n",
       "      <th>newspaper</th>\n",
       "    </tr>\n",
       "  </thead>\n",
       "  <tbody>\n",
       "    <tr>\n",
       "      <th>169</th>\n",
       "      <td>284.3</td>\n",
       "      <td>10.6</td>\n",
       "      <td>6.4</td>\n",
       "    </tr>\n",
       "    <tr>\n",
       "      <th>97</th>\n",
       "      <td>184.9</td>\n",
       "      <td>21.0</td>\n",
       "      <td>22.0</td>\n",
       "    </tr>\n",
       "    <tr>\n",
       "      <th>31</th>\n",
       "      <td>112.9</td>\n",
       "      <td>17.4</td>\n",
       "      <td>38.6</td>\n",
       "    </tr>\n",
       "    <tr>\n",
       "      <th>12</th>\n",
       "      <td>23.8</td>\n",
       "      <td>35.1</td>\n",
       "      <td>65.9</td>\n",
       "    </tr>\n",
       "    <tr>\n",
       "      <th>35</th>\n",
       "      <td>290.7</td>\n",
       "      <td>4.1</td>\n",
       "      <td>8.5</td>\n",
       "    </tr>\n",
       "    <tr>\n",
       "      <th>...</th>\n",
       "      <td>...</td>\n",
       "      <td>...</td>\n",
       "      <td>...</td>\n",
       "    </tr>\n",
       "    <tr>\n",
       "      <th>106</th>\n",
       "      <td>25.0</td>\n",
       "      <td>11.0</td>\n",
       "      <td>29.7</td>\n",
       "    </tr>\n",
       "    <tr>\n",
       "      <th>14</th>\n",
       "      <td>204.1</td>\n",
       "      <td>32.9</td>\n",
       "      <td>46.0</td>\n",
       "    </tr>\n",
       "    <tr>\n",
       "      <th>92</th>\n",
       "      <td>217.7</td>\n",
       "      <td>33.5</td>\n",
       "      <td>59.0</td>\n",
       "    </tr>\n",
       "    <tr>\n",
       "      <th>179</th>\n",
       "      <td>165.6</td>\n",
       "      <td>10.0</td>\n",
       "      <td>17.6</td>\n",
       "    </tr>\n",
       "    <tr>\n",
       "      <th>102</th>\n",
       "      <td>280.2</td>\n",
       "      <td>10.1</td>\n",
       "      <td>21.4</td>\n",
       "    </tr>\n",
       "  </tbody>\n",
       "</table>\n",
       "<p>140 rows × 3 columns</p>\n",
       "</div>"
      ],
      "text/plain": [
       "        TV  radio  newspaper\n",
       "169  284.3   10.6        6.4\n",
       "97   184.9   21.0       22.0\n",
       "31   112.9   17.4       38.6\n",
       "12    23.8   35.1       65.9\n",
       "35   290.7    4.1        8.5\n",
       "..     ...    ...        ...\n",
       "106   25.0   11.0       29.7\n",
       "14   204.1   32.9       46.0\n",
       "92   217.7   33.5       59.0\n",
       "179  165.6   10.0       17.6\n",
       "102  280.2   10.1       21.4\n",
       "\n",
       "[140 rows x 3 columns]"
      ]
     },
     "execution_count": 22,
     "metadata": {},
     "output_type": "execute_result"
    }
   ],
   "source": [
    "X_train"
   ]
  },
  {
   "cell_type": "code",
   "execution_count": 23,
   "id": "ef413d7f",
   "metadata": {},
   "outputs": [
    {
     "data": {
      "text/html": [
       "<div>\n",
       "<style scoped>\n",
       "    .dataframe tbody tr th:only-of-type {\n",
       "        vertical-align: middle;\n",
       "    }\n",
       "\n",
       "    .dataframe tbody tr th {\n",
       "        vertical-align: top;\n",
       "    }\n",
       "\n",
       "    .dataframe thead th {\n",
       "        text-align: right;\n",
       "    }\n",
       "</style>\n",
       "<table border=\"1\" class=\"dataframe\">\n",
       "  <thead>\n",
       "    <tr style=\"text-align: right;\">\n",
       "      <th></th>\n",
       "      <th>TV</th>\n",
       "      <th>radio</th>\n",
       "      <th>newspaper</th>\n",
       "    </tr>\n",
       "  </thead>\n",
       "  <tbody>\n",
       "    <tr>\n",
       "      <th>95</th>\n",
       "      <td>163.3</td>\n",
       "      <td>31.6</td>\n",
       "      <td>52.9</td>\n",
       "    </tr>\n",
       "    <tr>\n",
       "      <th>15</th>\n",
       "      <td>195.4</td>\n",
       "      <td>47.7</td>\n",
       "      <td>52.9</td>\n",
       "    </tr>\n",
       "    <tr>\n",
       "      <th>30</th>\n",
       "      <td>292.9</td>\n",
       "      <td>28.3</td>\n",
       "      <td>43.2</td>\n",
       "    </tr>\n",
       "    <tr>\n",
       "      <th>158</th>\n",
       "      <td>11.7</td>\n",
       "      <td>36.9</td>\n",
       "      <td>45.2</td>\n",
       "    </tr>\n",
       "    <tr>\n",
       "      <th>128</th>\n",
       "      <td>220.3</td>\n",
       "      <td>49.0</td>\n",
       "      <td>3.2</td>\n",
       "    </tr>\n",
       "    <tr>\n",
       "      <th>115</th>\n",
       "      <td>75.1</td>\n",
       "      <td>35.0</td>\n",
       "      <td>52.7</td>\n",
       "    </tr>\n",
       "    <tr>\n",
       "      <th>69</th>\n",
       "      <td>216.8</td>\n",
       "      <td>43.9</td>\n",
       "      <td>27.2</td>\n",
       "    </tr>\n",
       "    <tr>\n",
       "      <th>170</th>\n",
       "      <td>50.0</td>\n",
       "      <td>11.6</td>\n",
       "      <td>18.4</td>\n",
       "    </tr>\n",
       "    <tr>\n",
       "      <th>174</th>\n",
       "      <td>222.4</td>\n",
       "      <td>3.4</td>\n",
       "      <td>13.1</td>\n",
       "    </tr>\n",
       "    <tr>\n",
       "      <th>45</th>\n",
       "      <td>175.1</td>\n",
       "      <td>22.5</td>\n",
       "      <td>31.5</td>\n",
       "    </tr>\n",
       "    <tr>\n",
       "      <th>66</th>\n",
       "      <td>31.5</td>\n",
       "      <td>24.6</td>\n",
       "      <td>2.2</td>\n",
       "    </tr>\n",
       "    <tr>\n",
       "      <th>182</th>\n",
       "      <td>56.2</td>\n",
       "      <td>5.7</td>\n",
       "      <td>29.7</td>\n",
       "    </tr>\n",
       "    <tr>\n",
       "      <th>165</th>\n",
       "      <td>234.5</td>\n",
       "      <td>3.4</td>\n",
       "      <td>84.8</td>\n",
       "    </tr>\n",
       "    <tr>\n",
       "      <th>78</th>\n",
       "      <td>5.4</td>\n",
       "      <td>29.9</td>\n",
       "      <td>9.4</td>\n",
       "    </tr>\n",
       "    <tr>\n",
       "      <th>186</th>\n",
       "      <td>139.5</td>\n",
       "      <td>2.1</td>\n",
       "      <td>26.6</td>\n",
       "    </tr>\n",
       "    <tr>\n",
       "      <th>177</th>\n",
       "      <td>170.2</td>\n",
       "      <td>7.8</td>\n",
       "      <td>35.2</td>\n",
       "    </tr>\n",
       "    <tr>\n",
       "      <th>56</th>\n",
       "      <td>7.3</td>\n",
       "      <td>28.1</td>\n",
       "      <td>41.4</td>\n",
       "    </tr>\n",
       "    <tr>\n",
       "      <th>152</th>\n",
       "      <td>197.6</td>\n",
       "      <td>23.3</td>\n",
       "      <td>14.2</td>\n",
       "    </tr>\n",
       "    <tr>\n",
       "      <th>82</th>\n",
       "      <td>75.3</td>\n",
       "      <td>20.3</td>\n",
       "      <td>32.5</td>\n",
       "    </tr>\n",
       "    <tr>\n",
       "      <th>68</th>\n",
       "      <td>237.4</td>\n",
       "      <td>27.5</td>\n",
       "      <td>11.0</td>\n",
       "    </tr>\n",
       "    <tr>\n",
       "      <th>124</th>\n",
       "      <td>229.5</td>\n",
       "      <td>32.3</td>\n",
       "      <td>74.2</td>\n",
       "    </tr>\n",
       "    <tr>\n",
       "      <th>16</th>\n",
       "      <td>67.8</td>\n",
       "      <td>36.6</td>\n",
       "      <td>114.0</td>\n",
       "    </tr>\n",
       "    <tr>\n",
       "      <th>148</th>\n",
       "      <td>38.0</td>\n",
       "      <td>40.3</td>\n",
       "      <td>11.9</td>\n",
       "    </tr>\n",
       "    <tr>\n",
       "      <th>93</th>\n",
       "      <td>250.9</td>\n",
       "      <td>36.5</td>\n",
       "      <td>72.3</td>\n",
       "    </tr>\n",
       "    <tr>\n",
       "      <th>65</th>\n",
       "      <td>69.0</td>\n",
       "      <td>9.3</td>\n",
       "      <td>0.9</td>\n",
       "    </tr>\n",
       "    <tr>\n",
       "      <th>60</th>\n",
       "      <td>53.5</td>\n",
       "      <td>2.0</td>\n",
       "      <td>21.4</td>\n",
       "    </tr>\n",
       "    <tr>\n",
       "      <th>84</th>\n",
       "      <td>213.5</td>\n",
       "      <td>43.0</td>\n",
       "      <td>33.8</td>\n",
       "    </tr>\n",
       "    <tr>\n",
       "      <th>67</th>\n",
       "      <td>139.3</td>\n",
       "      <td>14.5</td>\n",
       "      <td>10.2</td>\n",
       "    </tr>\n",
       "    <tr>\n",
       "      <th>125</th>\n",
       "      <td>87.2</td>\n",
       "      <td>11.8</td>\n",
       "      <td>25.9</td>\n",
       "    </tr>\n",
       "    <tr>\n",
       "      <th>132</th>\n",
       "      <td>8.4</td>\n",
       "      <td>27.2</td>\n",
       "      <td>2.1</td>\n",
       "    </tr>\n",
       "    <tr>\n",
       "      <th>9</th>\n",
       "      <td>199.8</td>\n",
       "      <td>2.6</td>\n",
       "      <td>21.2</td>\n",
       "    </tr>\n",
       "    <tr>\n",
       "      <th>18</th>\n",
       "      <td>69.2</td>\n",
       "      <td>20.5</td>\n",
       "      <td>18.3</td>\n",
       "    </tr>\n",
       "    <tr>\n",
       "      <th>55</th>\n",
       "      <td>198.9</td>\n",
       "      <td>49.4</td>\n",
       "      <td>60.0</td>\n",
       "    </tr>\n",
       "    <tr>\n",
       "      <th>75</th>\n",
       "      <td>16.9</td>\n",
       "      <td>43.7</td>\n",
       "      <td>89.4</td>\n",
       "    </tr>\n",
       "    <tr>\n",
       "      <th>150</th>\n",
       "      <td>280.7</td>\n",
       "      <td>13.9</td>\n",
       "      <td>37.0</td>\n",
       "    </tr>\n",
       "    <tr>\n",
       "      <th>104</th>\n",
       "      <td>238.2</td>\n",
       "      <td>34.3</td>\n",
       "      <td>5.3</td>\n",
       "    </tr>\n",
       "    <tr>\n",
       "      <th>135</th>\n",
       "      <td>48.3</td>\n",
       "      <td>47.0</td>\n",
       "      <td>8.5</td>\n",
       "    </tr>\n",
       "    <tr>\n",
       "      <th>137</th>\n",
       "      <td>273.7</td>\n",
       "      <td>28.9</td>\n",
       "      <td>59.7</td>\n",
       "    </tr>\n",
       "    <tr>\n",
       "      <th>164</th>\n",
       "      <td>117.2</td>\n",
       "      <td>14.7</td>\n",
       "      <td>5.4</td>\n",
       "    </tr>\n",
       "    <tr>\n",
       "      <th>76</th>\n",
       "      <td>27.5</td>\n",
       "      <td>1.6</td>\n",
       "      <td>20.7</td>\n",
       "    </tr>\n",
       "    <tr>\n",
       "      <th>79</th>\n",
       "      <td>116.0</td>\n",
       "      <td>7.7</td>\n",
       "      <td>23.1</td>\n",
       "    </tr>\n",
       "    <tr>\n",
       "      <th>197</th>\n",
       "      <td>177.0</td>\n",
       "      <td>9.3</td>\n",
       "      <td>6.4</td>\n",
       "    </tr>\n",
       "    <tr>\n",
       "      <th>38</th>\n",
       "      <td>43.1</td>\n",
       "      <td>26.7</td>\n",
       "      <td>35.1</td>\n",
       "    </tr>\n",
       "    <tr>\n",
       "      <th>24</th>\n",
       "      <td>62.3</td>\n",
       "      <td>12.6</td>\n",
       "      <td>18.3</td>\n",
       "    </tr>\n",
       "    <tr>\n",
       "      <th>122</th>\n",
       "      <td>224.0</td>\n",
       "      <td>2.4</td>\n",
       "      <td>15.6</td>\n",
       "    </tr>\n",
       "    <tr>\n",
       "      <th>195</th>\n",
       "      <td>38.2</td>\n",
       "      <td>3.7</td>\n",
       "      <td>13.8</td>\n",
       "    </tr>\n",
       "    <tr>\n",
       "      <th>29</th>\n",
       "      <td>70.6</td>\n",
       "      <td>16.0</td>\n",
       "      <td>40.8</td>\n",
       "    </tr>\n",
       "    <tr>\n",
       "      <th>19</th>\n",
       "      <td>147.3</td>\n",
       "      <td>23.9</td>\n",
       "      <td>19.1</td>\n",
       "    </tr>\n",
       "    <tr>\n",
       "      <th>143</th>\n",
       "      <td>104.6</td>\n",
       "      <td>5.7</td>\n",
       "      <td>34.4</td>\n",
       "    </tr>\n",
       "    <tr>\n",
       "      <th>86</th>\n",
       "      <td>76.3</td>\n",
       "      <td>27.5</td>\n",
       "      <td>16.0</td>\n",
       "    </tr>\n",
       "    <tr>\n",
       "      <th>114</th>\n",
       "      <td>78.2</td>\n",
       "      <td>46.8</td>\n",
       "      <td>34.5</td>\n",
       "    </tr>\n",
       "    <tr>\n",
       "      <th>173</th>\n",
       "      <td>168.4</td>\n",
       "      <td>7.1</td>\n",
       "      <td>12.8</td>\n",
       "    </tr>\n",
       "    <tr>\n",
       "      <th>5</th>\n",
       "      <td>8.7</td>\n",
       "      <td>48.9</td>\n",
       "      <td>75.0</td>\n",
       "    </tr>\n",
       "    <tr>\n",
       "      <th>126</th>\n",
       "      <td>7.8</td>\n",
       "      <td>38.9</td>\n",
       "      <td>50.6</td>\n",
       "    </tr>\n",
       "    <tr>\n",
       "      <th>117</th>\n",
       "      <td>76.4</td>\n",
       "      <td>0.8</td>\n",
       "      <td>14.8</td>\n",
       "    </tr>\n",
       "    <tr>\n",
       "      <th>73</th>\n",
       "      <td>129.4</td>\n",
       "      <td>5.7</td>\n",
       "      <td>31.3</td>\n",
       "    </tr>\n",
       "    <tr>\n",
       "      <th>140</th>\n",
       "      <td>73.4</td>\n",
       "      <td>17.0</td>\n",
       "      <td>12.9</td>\n",
       "    </tr>\n",
       "    <tr>\n",
       "      <th>98</th>\n",
       "      <td>289.7</td>\n",
       "      <td>42.3</td>\n",
       "      <td>51.2</td>\n",
       "    </tr>\n",
       "    <tr>\n",
       "      <th>172</th>\n",
       "      <td>19.6</td>\n",
       "      <td>20.1</td>\n",
       "      <td>17.0</td>\n",
       "    </tr>\n",
       "    <tr>\n",
       "      <th>96</th>\n",
       "      <td>197.6</td>\n",
       "      <td>3.5</td>\n",
       "      <td>5.9</td>\n",
       "    </tr>\n",
       "  </tbody>\n",
       "</table>\n",
       "</div>"
      ],
      "text/plain": [
       "        TV  radio  newspaper\n",
       "95   163.3   31.6       52.9\n",
       "15   195.4   47.7       52.9\n",
       "30   292.9   28.3       43.2\n",
       "158   11.7   36.9       45.2\n",
       "128  220.3   49.0        3.2\n",
       "115   75.1   35.0       52.7\n",
       "69   216.8   43.9       27.2\n",
       "170   50.0   11.6       18.4\n",
       "174  222.4    3.4       13.1\n",
       "45   175.1   22.5       31.5\n",
       "66    31.5   24.6        2.2\n",
       "182   56.2    5.7       29.7\n",
       "165  234.5    3.4       84.8\n",
       "78     5.4   29.9        9.4\n",
       "186  139.5    2.1       26.6\n",
       "177  170.2    7.8       35.2\n",
       "56     7.3   28.1       41.4\n",
       "152  197.6   23.3       14.2\n",
       "82    75.3   20.3       32.5\n",
       "68   237.4   27.5       11.0\n",
       "124  229.5   32.3       74.2\n",
       "16    67.8   36.6      114.0\n",
       "148   38.0   40.3       11.9\n",
       "93   250.9   36.5       72.3\n",
       "65    69.0    9.3        0.9\n",
       "60    53.5    2.0       21.4\n",
       "84   213.5   43.0       33.8\n",
       "67   139.3   14.5       10.2\n",
       "125   87.2   11.8       25.9\n",
       "132    8.4   27.2        2.1\n",
       "9    199.8    2.6       21.2\n",
       "18    69.2   20.5       18.3\n",
       "55   198.9   49.4       60.0\n",
       "75    16.9   43.7       89.4\n",
       "150  280.7   13.9       37.0\n",
       "104  238.2   34.3        5.3\n",
       "135   48.3   47.0        8.5\n",
       "137  273.7   28.9       59.7\n",
       "164  117.2   14.7        5.4\n",
       "76    27.5    1.6       20.7\n",
       "79   116.0    7.7       23.1\n",
       "197  177.0    9.3        6.4\n",
       "38    43.1   26.7       35.1\n",
       "24    62.3   12.6       18.3\n",
       "122  224.0    2.4       15.6\n",
       "195   38.2    3.7       13.8\n",
       "29    70.6   16.0       40.8\n",
       "19   147.3   23.9       19.1\n",
       "143  104.6    5.7       34.4\n",
       "86    76.3   27.5       16.0\n",
       "114   78.2   46.8       34.5\n",
       "173  168.4    7.1       12.8\n",
       "5      8.7   48.9       75.0\n",
       "126    7.8   38.9       50.6\n",
       "117   76.4    0.8       14.8\n",
       "73   129.4    5.7       31.3\n",
       "140   73.4   17.0       12.9\n",
       "98   289.7   42.3       51.2\n",
       "172   19.6   20.1       17.0\n",
       "96   197.6    3.5        5.9"
      ]
     },
     "execution_count": 23,
     "metadata": {},
     "output_type": "execute_result"
    }
   ],
   "source": [
    "X_test"
   ]
  },
  {
   "cell_type": "code",
   "execution_count": 25,
   "id": "3ba0b117",
   "metadata": {},
   "outputs": [
    {
     "data": {
      "text/plain": [
       "169    15.0\n",
       "97     15.5\n",
       "31     11.9\n",
       "12      9.2\n",
       "35     12.8\n",
       "       ... \n",
       "106     7.2\n",
       "14     19.0\n",
       "92     19.4\n",
       "179    12.6\n",
       "102    14.8\n",
       "Name: sales, Length: 140, dtype: float64"
      ]
     },
     "execution_count": 25,
     "metadata": {},
     "output_type": "execute_result"
    }
   ],
   "source": [
    "y_train"
   ]
  },
  {
   "cell_type": "code",
   "execution_count": null,
   "id": "01bb8775",
   "metadata": {},
   "outputs": [],
   "source": []
  },
  {
   "cell_type": "markdown",
   "id": "d3d786d9",
   "metadata": {},
   "source": [
    "## Model Fitting and Compare Actual and Predicted Labels"
   ]
  },
  {
   "cell_type": "code",
   "execution_count": 26,
   "id": "0876cb26",
   "metadata": {},
   "outputs": [],
   "source": [
    "from sklearn.linear_model import LinearRegression"
   ]
  },
  {
   "cell_type": "code",
   "execution_count": 27,
   "id": "b8734e2a",
   "metadata": {},
   "outputs": [],
   "source": [
    "model = LinearRegression()"
   ]
  },
  {
   "cell_type": "code",
   "execution_count": 28,
   "id": "dc79c193",
   "metadata": {},
   "outputs": [
    {
     "data": {
      "text/plain": [
       "LinearRegression()"
      ]
     },
     "execution_count": 28,
     "metadata": {},
     "output_type": "execute_result"
    }
   ],
   "source": [
    "model.fit(X_train, y_train)"
   ]
  },
  {
   "cell_type": "code",
   "execution_count": 29,
   "id": "ae30db8c",
   "metadata": {},
   "outputs": [],
   "source": [
    "y_pred = model.predict(X_test)"
   ]
  },
  {
   "cell_type": "code",
   "execution_count": 30,
   "id": "78f89aed",
   "metadata": {},
   "outputs": [
    {
     "data": {
      "text/plain": [
       "array([16.5653963 , 21.18822792, 21.55107058, 10.88923816, 22.20231988,\n",
       "       13.35556872, 21.19692502,  7.35028523, 13.27547079, 15.12449511,\n",
       "        9.01443026,  6.52542825, 14.30205991,  8.97026042,  9.45679576,\n",
       "       12.00454351,  8.91549403, 16.15619251, 10.29582883, 18.72473553,\n",
       "       19.76821818, 13.77469028, 12.49638908, 21.53501762,  7.60860741,\n",
       "        5.6119801 , 20.91759483, 11.80627665,  9.08076637,  8.51412012,\n",
       "       12.17604891,  9.9691939 , 21.73008956, 12.77770578, 18.1011362 ,\n",
       "       20.07590796, 14.26202556, 20.93826535, 10.83938827,  4.38190607,\n",
       "        9.51332406, 12.40486324, 10.17045434,  8.09081363, 13.16388427,\n",
       "        5.2243552 ,  9.28893833, 14.09330719,  8.69024497, 11.66119763,\n",
       "       15.71848432, 11.63156862, 13.35360735, 11.1531472 ,  6.33636845,\n",
       "        9.76157954,  9.4195714 , 24.25516546,  7.69519137, 12.15317572])"
      ]
     },
     "execution_count": 30,
     "metadata": {},
     "output_type": "execute_result"
    }
   ],
   "source": [
    "y_pred"
   ]
  },
  {
   "cell_type": "code",
   "execution_count": 31,
   "id": "38765d1c",
   "metadata": {},
   "outputs": [],
   "source": [
    "my_dict = {\"Actual\":y_test, \"pred\":y_pred, \"residual\":y_test-y_pred}"
   ]
  },
  {
   "cell_type": "code",
   "execution_count": 33,
   "id": "fd6891ee",
   "metadata": {},
   "outputs": [
    {
     "data": {
      "text/html": [
       "<div>\n",
       "<style scoped>\n",
       "    .dataframe tbody tr th:only-of-type {\n",
       "        vertical-align: middle;\n",
       "    }\n",
       "\n",
       "    .dataframe tbody tr th {\n",
       "        vertical-align: top;\n",
       "    }\n",
       "\n",
       "    .dataframe thead th {\n",
       "        text-align: right;\n",
       "    }\n",
       "</style>\n",
       "<table border=\"1\" class=\"dataframe\">\n",
       "  <thead>\n",
       "    <tr style=\"text-align: right;\">\n",
       "      <th></th>\n",
       "      <th>Actual</th>\n",
       "      <th>pred</th>\n",
       "      <th>residual</th>\n",
       "    </tr>\n",
       "  </thead>\n",
       "  <tbody>\n",
       "    <tr>\n",
       "      <th>95</th>\n",
       "      <td>16.9</td>\n",
       "      <td>16.565396</td>\n",
       "      <td>0.334604</td>\n",
       "    </tr>\n",
       "    <tr>\n",
       "      <th>15</th>\n",
       "      <td>22.4</td>\n",
       "      <td>21.188228</td>\n",
       "      <td>1.211772</td>\n",
       "    </tr>\n",
       "    <tr>\n",
       "      <th>30</th>\n",
       "      <td>21.4</td>\n",
       "      <td>21.551071</td>\n",
       "      <td>-0.151071</td>\n",
       "    </tr>\n",
       "    <tr>\n",
       "      <th>158</th>\n",
       "      <td>7.3</td>\n",
       "      <td>10.889238</td>\n",
       "      <td>-3.589238</td>\n",
       "    </tr>\n",
       "    <tr>\n",
       "      <th>128</th>\n",
       "      <td>24.7</td>\n",
       "      <td>22.202320</td>\n",
       "      <td>2.497680</td>\n",
       "    </tr>\n",
       "    <tr>\n",
       "      <th>115</th>\n",
       "      <td>12.6</td>\n",
       "      <td>13.355569</td>\n",
       "      <td>-0.755569</td>\n",
       "    </tr>\n",
       "    <tr>\n",
       "      <th>69</th>\n",
       "      <td>22.3</td>\n",
       "      <td>21.196925</td>\n",
       "      <td>1.103075</td>\n",
       "    </tr>\n",
       "    <tr>\n",
       "      <th>170</th>\n",
       "      <td>8.4</td>\n",
       "      <td>7.350285</td>\n",
       "      <td>1.049715</td>\n",
       "    </tr>\n",
       "    <tr>\n",
       "      <th>174</th>\n",
       "      <td>11.5</td>\n",
       "      <td>13.275471</td>\n",
       "      <td>-1.775471</td>\n",
       "    </tr>\n",
       "    <tr>\n",
       "      <th>45</th>\n",
       "      <td>14.9</td>\n",
       "      <td>15.124495</td>\n",
       "      <td>-0.224495</td>\n",
       "    </tr>\n",
       "    <tr>\n",
       "      <th>66</th>\n",
       "      <td>9.5</td>\n",
       "      <td>9.014430</td>\n",
       "      <td>0.485570</td>\n",
       "    </tr>\n",
       "    <tr>\n",
       "      <th>182</th>\n",
       "      <td>8.7</td>\n",
       "      <td>6.525428</td>\n",
       "      <td>2.174572</td>\n",
       "    </tr>\n",
       "    <tr>\n",
       "      <th>165</th>\n",
       "      <td>11.9</td>\n",
       "      <td>14.302060</td>\n",
       "      <td>-2.402060</td>\n",
       "    </tr>\n",
       "    <tr>\n",
       "      <th>78</th>\n",
       "      <td>5.3</td>\n",
       "      <td>8.970260</td>\n",
       "      <td>-3.670260</td>\n",
       "    </tr>\n",
       "    <tr>\n",
       "      <th>186</th>\n",
       "      <td>10.3</td>\n",
       "      <td>9.456796</td>\n",
       "      <td>0.843204</td>\n",
       "    </tr>\n",
       "    <tr>\n",
       "      <th>177</th>\n",
       "      <td>11.7</td>\n",
       "      <td>12.004544</td>\n",
       "      <td>-0.304544</td>\n",
       "    </tr>\n",
       "    <tr>\n",
       "      <th>56</th>\n",
       "      <td>5.5</td>\n",
       "      <td>8.915494</td>\n",
       "      <td>-3.415494</td>\n",
       "    </tr>\n",
       "    <tr>\n",
       "      <th>152</th>\n",
       "      <td>16.6</td>\n",
       "      <td>16.156193</td>\n",
       "      <td>0.443807</td>\n",
       "    </tr>\n",
       "    <tr>\n",
       "      <th>82</th>\n",
       "      <td>11.3</td>\n",
       "      <td>10.295829</td>\n",
       "      <td>1.004171</td>\n",
       "    </tr>\n",
       "    <tr>\n",
       "      <th>68</th>\n",
       "      <td>18.9</td>\n",
       "      <td>18.724736</td>\n",
       "      <td>0.175264</td>\n",
       "    </tr>\n",
       "    <tr>\n",
       "      <th>124</th>\n",
       "      <td>19.7</td>\n",
       "      <td>19.768218</td>\n",
       "      <td>-0.068218</td>\n",
       "    </tr>\n",
       "    <tr>\n",
       "      <th>16</th>\n",
       "      <td>12.5</td>\n",
       "      <td>13.774690</td>\n",
       "      <td>-1.274690</td>\n",
       "    </tr>\n",
       "    <tr>\n",
       "      <th>148</th>\n",
       "      <td>10.9</td>\n",
       "      <td>12.496389</td>\n",
       "      <td>-1.596389</td>\n",
       "    </tr>\n",
       "    <tr>\n",
       "      <th>93</th>\n",
       "      <td>22.2</td>\n",
       "      <td>21.535018</td>\n",
       "      <td>0.664982</td>\n",
       "    </tr>\n",
       "    <tr>\n",
       "      <th>65</th>\n",
       "      <td>9.3</td>\n",
       "      <td>7.608607</td>\n",
       "      <td>1.691393</td>\n",
       "    </tr>\n",
       "    <tr>\n",
       "      <th>60</th>\n",
       "      <td>8.1</td>\n",
       "      <td>5.611980</td>\n",
       "      <td>2.488020</td>\n",
       "    </tr>\n",
       "    <tr>\n",
       "      <th>84</th>\n",
       "      <td>21.7</td>\n",
       "      <td>20.917595</td>\n",
       "      <td>0.782405</td>\n",
       "    </tr>\n",
       "    <tr>\n",
       "      <th>67</th>\n",
       "      <td>13.4</td>\n",
       "      <td>11.806277</td>\n",
       "      <td>1.593723</td>\n",
       "    </tr>\n",
       "    <tr>\n",
       "      <th>125</th>\n",
       "      <td>10.6</td>\n",
       "      <td>9.080766</td>\n",
       "      <td>1.519234</td>\n",
       "    </tr>\n",
       "    <tr>\n",
       "      <th>132</th>\n",
       "      <td>5.7</td>\n",
       "      <td>8.514120</td>\n",
       "      <td>-2.814120</td>\n",
       "    </tr>\n",
       "    <tr>\n",
       "      <th>9</th>\n",
       "      <td>10.6</td>\n",
       "      <td>12.176049</td>\n",
       "      <td>-1.576049</td>\n",
       "    </tr>\n",
       "    <tr>\n",
       "      <th>18</th>\n",
       "      <td>11.3</td>\n",
       "      <td>9.969194</td>\n",
       "      <td>1.330806</td>\n",
       "    </tr>\n",
       "    <tr>\n",
       "      <th>55</th>\n",
       "      <td>23.7</td>\n",
       "      <td>21.730090</td>\n",
       "      <td>1.969910</td>\n",
       "    </tr>\n",
       "    <tr>\n",
       "      <th>75</th>\n",
       "      <td>8.7</td>\n",
       "      <td>12.777706</td>\n",
       "      <td>-4.077706</td>\n",
       "    </tr>\n",
       "    <tr>\n",
       "      <th>150</th>\n",
       "      <td>16.1</td>\n",
       "      <td>18.101136</td>\n",
       "      <td>-2.001136</td>\n",
       "    </tr>\n",
       "    <tr>\n",
       "      <th>104</th>\n",
       "      <td>20.7</td>\n",
       "      <td>20.075908</td>\n",
       "      <td>0.624092</td>\n",
       "    </tr>\n",
       "    <tr>\n",
       "      <th>135</th>\n",
       "      <td>11.6</td>\n",
       "      <td>14.262026</td>\n",
       "      <td>-2.662026</td>\n",
       "    </tr>\n",
       "    <tr>\n",
       "      <th>137</th>\n",
       "      <td>20.8</td>\n",
       "      <td>20.938265</td>\n",
       "      <td>-0.138265</td>\n",
       "    </tr>\n",
       "    <tr>\n",
       "      <th>164</th>\n",
       "      <td>11.9</td>\n",
       "      <td>10.839388</td>\n",
       "      <td>1.060612</td>\n",
       "    </tr>\n",
       "    <tr>\n",
       "      <th>76</th>\n",
       "      <td>6.9</td>\n",
       "      <td>4.381906</td>\n",
       "      <td>2.518094</td>\n",
       "    </tr>\n",
       "    <tr>\n",
       "      <th>79</th>\n",
       "      <td>11.0</td>\n",
       "      <td>9.513324</td>\n",
       "      <td>1.486676</td>\n",
       "    </tr>\n",
       "    <tr>\n",
       "      <th>197</th>\n",
       "      <td>12.8</td>\n",
       "      <td>12.404863</td>\n",
       "      <td>0.395137</td>\n",
       "    </tr>\n",
       "    <tr>\n",
       "      <th>38</th>\n",
       "      <td>10.1</td>\n",
       "      <td>10.170454</td>\n",
       "      <td>-0.070454</td>\n",
       "    </tr>\n",
       "    <tr>\n",
       "      <th>24</th>\n",
       "      <td>9.7</td>\n",
       "      <td>8.090814</td>\n",
       "      <td>1.609186</td>\n",
       "    </tr>\n",
       "    <tr>\n",
       "      <th>122</th>\n",
       "      <td>11.6</td>\n",
       "      <td>13.163884</td>\n",
       "      <td>-1.563884</td>\n",
       "    </tr>\n",
       "    <tr>\n",
       "      <th>195</th>\n",
       "      <td>7.6</td>\n",
       "      <td>5.224355</td>\n",
       "      <td>2.375645</td>\n",
       "    </tr>\n",
       "    <tr>\n",
       "      <th>29</th>\n",
       "      <td>10.5</td>\n",
       "      <td>9.288938</td>\n",
       "      <td>1.211062</td>\n",
       "    </tr>\n",
       "    <tr>\n",
       "      <th>19</th>\n",
       "      <td>14.6</td>\n",
       "      <td>14.093307</td>\n",
       "      <td>0.506693</td>\n",
       "    </tr>\n",
       "    <tr>\n",
       "      <th>143</th>\n",
       "      <td>10.4</td>\n",
       "      <td>8.690245</td>\n",
       "      <td>1.709755</td>\n",
       "    </tr>\n",
       "    <tr>\n",
       "      <th>86</th>\n",
       "      <td>12.0</td>\n",
       "      <td>11.661198</td>\n",
       "      <td>0.338802</td>\n",
       "    </tr>\n",
       "    <tr>\n",
       "      <th>114</th>\n",
       "      <td>14.6</td>\n",
       "      <td>15.718484</td>\n",
       "      <td>-1.118484</td>\n",
       "    </tr>\n",
       "    <tr>\n",
       "      <th>173</th>\n",
       "      <td>11.7</td>\n",
       "      <td>11.631569</td>\n",
       "      <td>0.068431</td>\n",
       "    </tr>\n",
       "    <tr>\n",
       "      <th>5</th>\n",
       "      <td>7.2</td>\n",
       "      <td>13.353607</td>\n",
       "      <td>-6.153607</td>\n",
       "    </tr>\n",
       "    <tr>\n",
       "      <th>126</th>\n",
       "      <td>6.6</td>\n",
       "      <td>11.153147</td>\n",
       "      <td>-4.553147</td>\n",
       "    </tr>\n",
       "    <tr>\n",
       "      <th>117</th>\n",
       "      <td>9.4</td>\n",
       "      <td>6.336368</td>\n",
       "      <td>3.063632</td>\n",
       "    </tr>\n",
       "    <tr>\n",
       "      <th>73</th>\n",
       "      <td>11.0</td>\n",
       "      <td>9.761580</td>\n",
       "      <td>1.238420</td>\n",
       "    </tr>\n",
       "    <tr>\n",
       "      <th>140</th>\n",
       "      <td>10.9</td>\n",
       "      <td>9.419571</td>\n",
       "      <td>1.480429</td>\n",
       "    </tr>\n",
       "    <tr>\n",
       "      <th>98</th>\n",
       "      <td>25.4</td>\n",
       "      <td>24.255165</td>\n",
       "      <td>1.144835</td>\n",
       "    </tr>\n",
       "    <tr>\n",
       "      <th>172</th>\n",
       "      <td>7.6</td>\n",
       "      <td>7.695191</td>\n",
       "      <td>-0.095191</td>\n",
       "    </tr>\n",
       "    <tr>\n",
       "      <th>96</th>\n",
       "      <td>11.7</td>\n",
       "      <td>12.153176</td>\n",
       "      <td>-0.453176</td>\n",
       "    </tr>\n",
       "  </tbody>\n",
       "</table>\n",
       "</div>"
      ],
      "text/plain": [
       "     Actual       pred  residual\n",
       "95     16.9  16.565396  0.334604\n",
       "15     22.4  21.188228  1.211772\n",
       "30     21.4  21.551071 -0.151071\n",
       "158     7.3  10.889238 -3.589238\n",
       "128    24.7  22.202320  2.497680\n",
       "115    12.6  13.355569 -0.755569\n",
       "69     22.3  21.196925  1.103075\n",
       "170     8.4   7.350285  1.049715\n",
       "174    11.5  13.275471 -1.775471\n",
       "45     14.9  15.124495 -0.224495\n",
       "66      9.5   9.014430  0.485570\n",
       "182     8.7   6.525428  2.174572\n",
       "165    11.9  14.302060 -2.402060\n",
       "78      5.3   8.970260 -3.670260\n",
       "186    10.3   9.456796  0.843204\n",
       "177    11.7  12.004544 -0.304544\n",
       "56      5.5   8.915494 -3.415494\n",
       "152    16.6  16.156193  0.443807\n",
       "82     11.3  10.295829  1.004171\n",
       "68     18.9  18.724736  0.175264\n",
       "124    19.7  19.768218 -0.068218\n",
       "16     12.5  13.774690 -1.274690\n",
       "148    10.9  12.496389 -1.596389\n",
       "93     22.2  21.535018  0.664982\n",
       "65      9.3   7.608607  1.691393\n",
       "60      8.1   5.611980  2.488020\n",
       "84     21.7  20.917595  0.782405\n",
       "67     13.4  11.806277  1.593723\n",
       "125    10.6   9.080766  1.519234\n",
       "132     5.7   8.514120 -2.814120\n",
       "9      10.6  12.176049 -1.576049\n",
       "18     11.3   9.969194  1.330806\n",
       "55     23.7  21.730090  1.969910\n",
       "75      8.7  12.777706 -4.077706\n",
       "150    16.1  18.101136 -2.001136\n",
       "104    20.7  20.075908  0.624092\n",
       "135    11.6  14.262026 -2.662026\n",
       "137    20.8  20.938265 -0.138265\n",
       "164    11.9  10.839388  1.060612\n",
       "76      6.9   4.381906  2.518094\n",
       "79     11.0   9.513324  1.486676\n",
       "197    12.8  12.404863  0.395137\n",
       "38     10.1  10.170454 -0.070454\n",
       "24      9.7   8.090814  1.609186\n",
       "122    11.6  13.163884 -1.563884\n",
       "195     7.6   5.224355  2.375645\n",
       "29     10.5   9.288938  1.211062\n",
       "19     14.6  14.093307  0.506693\n",
       "143    10.4   8.690245  1.709755\n",
       "86     12.0  11.661198  0.338802\n",
       "114    14.6  15.718484 -1.118484\n",
       "173    11.7  11.631569  0.068431\n",
       "5       7.2  13.353607 -6.153607\n",
       "126     6.6  11.153147 -4.553147\n",
       "117     9.4   6.336368  3.063632\n",
       "73     11.0   9.761580  1.238420\n",
       "140    10.9   9.419571  1.480429\n",
       "98     25.4  24.255165  1.144835\n",
       "172     7.6   7.695191 -0.095191\n",
       "96     11.7  12.153176 -0.453176"
      ]
     },
     "execution_count": 33,
     "metadata": {},
     "output_type": "execute_result"
    }
   ],
   "source": [
    "comparing = pd.DataFrame(my_dict)\n",
    "comparing"
   ]
  },
  {
   "cell_type": "code",
   "execution_count": 36,
   "id": "df862337",
   "metadata": {},
   "outputs": [
    {
     "data": {
      "text/html": [
       "<div>\n",
       "<style scoped>\n",
       "    .dataframe tbody tr th:only-of-type {\n",
       "        vertical-align: middle;\n",
       "    }\n",
       "\n",
       "    .dataframe tbody tr th {\n",
       "        vertical-align: top;\n",
       "    }\n",
       "\n",
       "    .dataframe thead th {\n",
       "        text-align: right;\n",
       "    }\n",
       "</style>\n",
       "<table border=\"1\" class=\"dataframe\">\n",
       "  <thead>\n",
       "    <tr style=\"text-align: right;\">\n",
       "      <th></th>\n",
       "      <th>Actual</th>\n",
       "      <th>pred</th>\n",
       "      <th>residual</th>\n",
       "    </tr>\n",
       "  </thead>\n",
       "  <tbody>\n",
       "    <tr>\n",
       "      <th>95</th>\n",
       "      <td>16.9</td>\n",
       "      <td>16.565396</td>\n",
       "      <td>0.334604</td>\n",
       "    </tr>\n",
       "    <tr>\n",
       "      <th>15</th>\n",
       "      <td>22.4</td>\n",
       "      <td>21.188228</td>\n",
       "      <td>1.211772</td>\n",
       "    </tr>\n",
       "    <tr>\n",
       "      <th>30</th>\n",
       "      <td>21.4</td>\n",
       "      <td>21.551071</td>\n",
       "      <td>-0.151071</td>\n",
       "    </tr>\n",
       "    <tr>\n",
       "      <th>158</th>\n",
       "      <td>7.3</td>\n",
       "      <td>10.889238</td>\n",
       "      <td>-3.589238</td>\n",
       "    </tr>\n",
       "    <tr>\n",
       "      <th>128</th>\n",
       "      <td>24.7</td>\n",
       "      <td>22.202320</td>\n",
       "      <td>2.497680</td>\n",
       "    </tr>\n",
       "    <tr>\n",
       "      <th>115</th>\n",
       "      <td>12.6</td>\n",
       "      <td>13.355569</td>\n",
       "      <td>-0.755569</td>\n",
       "    </tr>\n",
       "    <tr>\n",
       "      <th>69</th>\n",
       "      <td>22.3</td>\n",
       "      <td>21.196925</td>\n",
       "      <td>1.103075</td>\n",
       "    </tr>\n",
       "    <tr>\n",
       "      <th>170</th>\n",
       "      <td>8.4</td>\n",
       "      <td>7.350285</td>\n",
       "      <td>1.049715</td>\n",
       "    </tr>\n",
       "    <tr>\n",
       "      <th>174</th>\n",
       "      <td>11.5</td>\n",
       "      <td>13.275471</td>\n",
       "      <td>-1.775471</td>\n",
       "    </tr>\n",
       "    <tr>\n",
       "      <th>45</th>\n",
       "      <td>14.9</td>\n",
       "      <td>15.124495</td>\n",
       "      <td>-0.224495</td>\n",
       "    </tr>\n",
       "    <tr>\n",
       "      <th>66</th>\n",
       "      <td>9.5</td>\n",
       "      <td>9.014430</td>\n",
       "      <td>0.485570</td>\n",
       "    </tr>\n",
       "    <tr>\n",
       "      <th>182</th>\n",
       "      <td>8.7</td>\n",
       "      <td>6.525428</td>\n",
       "      <td>2.174572</td>\n",
       "    </tr>\n",
       "    <tr>\n",
       "      <th>165</th>\n",
       "      <td>11.9</td>\n",
       "      <td>14.302060</td>\n",
       "      <td>-2.402060</td>\n",
       "    </tr>\n",
       "    <tr>\n",
       "      <th>78</th>\n",
       "      <td>5.3</td>\n",
       "      <td>8.970260</td>\n",
       "      <td>-3.670260</td>\n",
       "    </tr>\n",
       "    <tr>\n",
       "      <th>186</th>\n",
       "      <td>10.3</td>\n",
       "      <td>9.456796</td>\n",
       "      <td>0.843204</td>\n",
       "    </tr>\n",
       "    <tr>\n",
       "      <th>177</th>\n",
       "      <td>11.7</td>\n",
       "      <td>12.004544</td>\n",
       "      <td>-0.304544</td>\n",
       "    </tr>\n",
       "    <tr>\n",
       "      <th>56</th>\n",
       "      <td>5.5</td>\n",
       "      <td>8.915494</td>\n",
       "      <td>-3.415494</td>\n",
       "    </tr>\n",
       "    <tr>\n",
       "      <th>152</th>\n",
       "      <td>16.6</td>\n",
       "      <td>16.156193</td>\n",
       "      <td>0.443807</td>\n",
       "    </tr>\n",
       "    <tr>\n",
       "      <th>82</th>\n",
       "      <td>11.3</td>\n",
       "      <td>10.295829</td>\n",
       "      <td>1.004171</td>\n",
       "    </tr>\n",
       "    <tr>\n",
       "      <th>68</th>\n",
       "      <td>18.9</td>\n",
       "      <td>18.724736</td>\n",
       "      <td>0.175264</td>\n",
       "    </tr>\n",
       "    <tr>\n",
       "      <th>124</th>\n",
       "      <td>19.7</td>\n",
       "      <td>19.768218</td>\n",
       "      <td>-0.068218</td>\n",
       "    </tr>\n",
       "    <tr>\n",
       "      <th>16</th>\n",
       "      <td>12.5</td>\n",
       "      <td>13.774690</td>\n",
       "      <td>-1.274690</td>\n",
       "    </tr>\n",
       "    <tr>\n",
       "      <th>148</th>\n",
       "      <td>10.9</td>\n",
       "      <td>12.496389</td>\n",
       "      <td>-1.596389</td>\n",
       "    </tr>\n",
       "    <tr>\n",
       "      <th>93</th>\n",
       "      <td>22.2</td>\n",
       "      <td>21.535018</td>\n",
       "      <td>0.664982</td>\n",
       "    </tr>\n",
       "    <tr>\n",
       "      <th>65</th>\n",
       "      <td>9.3</td>\n",
       "      <td>7.608607</td>\n",
       "      <td>1.691393</td>\n",
       "    </tr>\n",
       "  </tbody>\n",
       "</table>\n",
       "</div>"
      ],
      "text/plain": [
       "     Actual       pred  residual\n",
       "95     16.9  16.565396  0.334604\n",
       "15     22.4  21.188228  1.211772\n",
       "30     21.4  21.551071 -0.151071\n",
       "158     7.3  10.889238 -3.589238\n",
       "128    24.7  22.202320  2.497680\n",
       "115    12.6  13.355569 -0.755569\n",
       "69     22.3  21.196925  1.103075\n",
       "170     8.4   7.350285  1.049715\n",
       "174    11.5  13.275471 -1.775471\n",
       "45     14.9  15.124495 -0.224495\n",
       "66      9.5   9.014430  0.485570\n",
       "182     8.7   6.525428  2.174572\n",
       "165    11.9  14.302060 -2.402060\n",
       "78      5.3   8.970260 -3.670260\n",
       "186    10.3   9.456796  0.843204\n",
       "177    11.7  12.004544 -0.304544\n",
       "56      5.5   8.915494 -3.415494\n",
       "152    16.6  16.156193  0.443807\n",
       "82     11.3  10.295829  1.004171\n",
       "68     18.9  18.724736  0.175264\n",
       "124    19.7  19.768218 -0.068218\n",
       "16     12.5  13.774690 -1.274690\n",
       "148    10.9  12.496389 -1.596389\n",
       "93     22.2  21.535018  0.664982\n",
       "65      9.3   7.608607  1.691393"
      ]
     },
     "execution_count": 36,
     "metadata": {},
     "output_type": "execute_result"
    }
   ],
   "source": [
    "result_sample = comparing.head(25)\n",
    "result_sample"
   ]
  },
  {
   "cell_type": "code",
   "execution_count": 37,
   "id": "fc6ba23c",
   "metadata": {},
   "outputs": [
    {
     "data": {
      "image/png": "[encoded data removed]",
      "text/plain": [
       "<Figure size 1080x648 with 1 Axes>"
      ]
     },
     "metadata": {
      "needs_background": "light"
     },
     "output_type": "display_data"
    }
   ],
   "source": [
    "result_sample.plot(kind=\"bar\", figsize=(15,9))\n",
    "plt.show()"
   ]
  },
  {
   "cell_type": "markdown",
   "id": "b15b634b",
   "metadata": {},
   "source": [
    "## Error Metrics"
   ]
  },
  {
   "cell_type": "code",
   "execution_count": 38,
   "id": "710fe810",
   "metadata": {},
   "outputs": [],
   "source": [
    "from sklearn.metrics import mean_absolute_error, mean_squared_error, r2_score"
   ]
  },
  {
   "cell_type": "code",
   "execution_count": 39,
   "id": "26ad85f0",
   "metadata": {},
   "outputs": [
    {
     "data": {
      "text/plain": [
       "0.8609466508230368"
      ]
     },
     "execution_count": 39,
     "metadata": {},
     "output_type": "execute_result"
    }
   ],
   "source": [
    "R2_score = r2_score(y_test, y_pred)\n",
    "R2_score"
   ]
  },
  {
   "cell_type": "code",
   "execution_count": 40,
   "id": "cc1cb88f",
   "metadata": {},
   "outputs": [
    {
     "data": {
      "text/plain": [
       "1.5116692224549086"
      ]
     },
     "execution_count": 40,
     "metadata": {},
     "output_type": "execute_result"
    }
   ],
   "source": [
    "mae = mean_absolute_error(y_test, y_pred)\n",
    "mae"
   ]
  },
  {
   "cell_type": "code",
   "execution_count": 41,
   "id": "32c51bd7",
   "metadata": {},
   "outputs": [
    {
     "data": {
      "text/plain": [
       "3.7967972367152196"
      ]
     },
     "execution_count": 41,
     "metadata": {},
     "output_type": "execute_result"
    }
   ],
   "source": [
    "mse = mean_squared_error(y_test, y_pred)\n",
    "mse"
   ]
  },
  {
   "cell_type": "code",
   "execution_count": 42,
   "id": "f6eafc42",
   "metadata": {},
   "outputs": [
    {
     "data": {
      "text/plain": [
       "1.9485372043446385"
      ]
     },
     "execution_count": 42,
     "metadata": {},
     "output_type": "execute_result"
    }
   ],
   "source": [
    "rmse = np.sqrt(mean_squared_error(y_test, y_pred))\n",
    "rmse"
   ]
  },
  {
   "cell_type": "code",
   "execution_count": 45,
   "id": "c10c9362",
   "metadata": {},
   "outputs": [
    {
     "data": {
      "text/plain": [
       "14.0225"
      ]
     },
     "execution_count": 45,
     "metadata": {},
     "output_type": "execute_result"
    }
   ],
   "source": [
    "sales_mean = df[\"sales\"].mean()\n",
    "sales_mean"
   ]
  },
  {
   "cell_type": "code",
   "execution_count": 46,
   "id": "f824c904",
   "metadata": {},
   "outputs": [
    {
     "data": {
      "text/plain": [
       "0.10780311802138767"
      ]
     },
     "execution_count": 46,
     "metadata": {},
     "output_type": "execute_result"
    }
   ],
   "source": [
    "mae / sales_mean"
   ]
  },
  {
   "cell_type": "code",
   "execution_count": 47,
   "id": "e438ae42",
   "metadata": {},
   "outputs": [
    {
     "data": {
      "text/plain": [
       "0.13895790367941796"
      ]
     },
     "execution_count": 47,
     "metadata": {},
     "output_type": "execute_result"
    }
   ],
   "source": [
    "rmse / sales_mean"
   ]
  },
  {
   "cell_type": "markdown",
   "id": "269f67f0",
   "metadata": {},
   "source": [
    "## What is the concept of punishment for RMSE error metric?"
   ]
  },
  {
   "cell_type": "code",
   "execution_count": 55,
   "id": "01f411c8",
   "metadata": {},
   "outputs": [],
   "source": [
    "variables = {\"Actual\":[1000, 2000, 3000], \"pred\":[1100, 2200, 3600]}  # Third pred was 3200"
   ]
  },
  {
   "cell_type": "code",
   "execution_count": 56,
   "id": "b8f46995",
   "metadata": {},
   "outputs": [
    {
     "data": {
      "text/html": [
       "<div>\n",
       "<style scoped>\n",
       "    .dataframe tbody tr th:only-of-type {\n",
       "        vertical-align: middle;\n",
       "    }\n",
       "\n",
       "    .dataframe tbody tr th {\n",
       "        vertical-align: top;\n",
       "    }\n",
       "\n",
       "    .dataframe thead th {\n",
       "        text-align: right;\n",
       "    }\n",
       "</style>\n",
       "<table border=\"1\" class=\"dataframe\">\n",
       "  <thead>\n",
       "    <tr style=\"text-align: right;\">\n",
       "      <th></th>\n",
       "      <th>Actual</th>\n",
       "      <th>pred</th>\n",
       "    </tr>\n",
       "  </thead>\n",
       "  <tbody>\n",
       "    <tr>\n",
       "      <th>0</th>\n",
       "      <td>1000</td>\n",
       "      <td>1100</td>\n",
       "    </tr>\n",
       "    <tr>\n",
       "      <th>1</th>\n",
       "      <td>2000</td>\n",
       "      <td>2200</td>\n",
       "    </tr>\n",
       "    <tr>\n",
       "      <th>2</th>\n",
       "      <td>3000</td>\n",
       "      <td>3600</td>\n",
       "    </tr>\n",
       "  </tbody>\n",
       "</table>\n",
       "</div>"
      ],
      "text/plain": [
       "   Actual  pred\n",
       "0    1000  1100\n",
       "1    2000  2200\n",
       "2    3000  3600"
      ]
     },
     "execution_count": 56,
     "metadata": {},
     "output_type": "execute_result"
    }
   ],
   "source": [
    "df_2 = pd.DataFrame(variables)\n",
    "df_2"
   ]
  },
  {
   "cell_type": "code",
   "execution_count": 57,
   "id": "d49d7e57",
   "metadata": {},
   "outputs": [],
   "source": [
    "df_2[\"residual\"] = abs(df_2.Actual - df_2.pred)"
   ]
  },
  {
   "cell_type": "code",
   "execution_count": 58,
   "id": "198c0ac7",
   "metadata": {
    "scrolled": true
   },
   "outputs": [
    {
     "data": {
      "text/html": [
       "<div>\n",
       "<style scoped>\n",
       "    .dataframe tbody tr th:only-of-type {\n",
       "        vertical-align: middle;\n",
       "    }\n",
       "\n",
       "    .dataframe tbody tr th {\n",
       "        vertical-align: top;\n",
       "    }\n",
       "\n",
       "    .dataframe thead th {\n",
       "        text-align: right;\n",
       "    }\n",
       "</style>\n",
       "<table border=\"1\" class=\"dataframe\">\n",
       "  <thead>\n",
       "    <tr style=\"text-align: right;\">\n",
       "      <th></th>\n",
       "      <th>Actual</th>\n",
       "      <th>pred</th>\n",
       "      <th>residual</th>\n",
       "    </tr>\n",
       "  </thead>\n",
       "  <tbody>\n",
       "    <tr>\n",
       "      <th>0</th>\n",
       "      <td>1000</td>\n",
       "      <td>1100</td>\n",
       "      <td>100</td>\n",
       "    </tr>\n",
       "    <tr>\n",
       "      <th>1</th>\n",
       "      <td>2000</td>\n",
       "      <td>2200</td>\n",
       "      <td>200</td>\n",
       "    </tr>\n",
       "    <tr>\n",
       "      <th>2</th>\n",
       "      <td>3000</td>\n",
       "      <td>3600</td>\n",
       "      <td>600</td>\n",
       "    </tr>\n",
       "  </tbody>\n",
       "</table>\n",
       "</div>"
      ],
      "text/plain": [
       "   Actual  pred  residual\n",
       "0    1000  1100       100\n",
       "1    2000  2200       200\n",
       "2    3000  3600       600"
      ]
     },
     "execution_count": 58,
     "metadata": {},
     "output_type": "execute_result"
    }
   ],
   "source": [
    "df_2"
   ]
  },
  {
   "cell_type": "code",
   "execution_count": 59,
   "id": "575eabac",
   "metadata": {},
   "outputs": [
    {
     "data": {
      "text/plain": [
       "300.0"
      ]
     },
     "execution_count": 59,
     "metadata": {},
     "output_type": "execute_result"
    }
   ],
   "source": [
    "# mae\n",
    "df_2.residual.sum()/3  # 166.66"
   ]
  },
  {
   "cell_type": "code",
   "execution_count": 60,
   "id": "372944ef",
   "metadata": {},
   "outputs": [
    {
     "data": {
      "text/plain": [
       "369.68455021364724"
      ]
     },
     "execution_count": 60,
     "metadata": {},
     "output_type": "execute_result"
    }
   ],
   "source": [
    "# rmse\n",
    "((df_2.residual**2).sum()/3)**0.5  # 173.20"
   ]
  },
  {
   "cell_type": "markdown",
   "id": "38a26d7a",
   "metadata": {},
   "source": [
    "## Evaluation Model"
   ]
  },
  {
   "cell_type": "code",
   "execution_count": 61,
   "id": "7152772c",
   "metadata": {},
   "outputs": [],
   "source": [
    "def eval_metric(actual, pred):\n",
    "    mae = mean_absolute_error(actual, pred)\n",
    "    mse = mean_squared_error(actual, pred)\n",
    "    rmse = np.sqrt(mean_squared_error(actual, pred))\n",
    "    R2_score = r2_score(actual, pred)\n",
    "    print(\"Model testing performance:\")\n",
    "    print(\"--------------------------\")\n",
    "    print(f\"R2_score \\t: {R2_score}\")\n",
    "    print(f\"MAE \\t\\t: {mae}\")\n",
    "    print(f\"MSE \\t\\t: {mse}\")\n",
    "    print(f\"RMSE \\t\\t: {rmse}\")"
   ]
  },
  {
   "cell_type": "code",
   "execution_count": 62,
   "id": "5f69ab1e",
   "metadata": {},
   "outputs": [
    {
     "name": "stdout",
     "output_type": "stream",
     "text": [
      "Model testing performance:\n",
      "--------------------------\n",
      "R2_score \t: 0.8609466508230368\n",
      "MAE \t\t: 1.5116692224549086\n",
      "MSE \t\t: 3.7967972367152196\n",
      "RMSE \t\t: 1.9485372043446385\n"
     ]
    }
   ],
   "source": [
    "eval_metric(y_test, y_pred)"
   ]
  },
  {
   "cell_type": "code",
   "execution_count": 63,
   "id": "12c8f714",
   "metadata": {},
   "outputs": [],
   "source": [
    "y_train_pred = model.predict(X_train)"
   ]
  },
  {
   "cell_type": "code",
   "execution_count": 64,
   "id": "2857ff9e",
   "metadata": {},
   "outputs": [
    {
     "name": "stdout",
     "output_type": "stream",
     "text": [
      "Model testing performance:\n",
      "--------------------------\n",
      "R2_score \t: 0.9055159502227753\n",
      "MAE \t\t: 1.1581502948072528\n",
      "MSE \t\t: 2.479355178905786\n",
      "RMSE \t\t: 1.574596830590544\n"
     ]
    }
   ],
   "source": [
    "eval_metric(y_train, y_train_pred)"
   ]
  },
  {
   "cell_type": "markdown",
   "id": "30a71860",
   "metadata": {},
   "source": [
    "## Is data suitable for linear regression?"
   ]
  },
  {
   "cell_type": "markdown",
   "id": "71e70a68",
   "metadata": {},
   "source": [
    "## Plotting residuals"
   ]
  },
  {
   "cell_type": "code",
   "execution_count": 67,
   "id": "aaa31ae7",
   "metadata": {},
   "outputs": [],
   "source": [
    "residuals = y_test - y_pred"
   ]
  },
  {
   "cell_type": "code",
   "execution_count": 68,
   "id": "24e38e79",
   "metadata": {},
   "outputs": [
    {
     "data": {
      "image/png": "[encoded data removed]",
      "text/plain": [
       "<Figure size 720x432 with 1 Axes>"
      ]
     },
     "metadata": {
      "needs_background": "light"
     },
     "output_type": "display_data"
    }
   ],
   "source": [
    "plt.figure(figsize = (10,6))\n",
    "sns.scatterplot(x = y_test, y= residuals)  # -residuals\n",
    "plt.axhline(y = 0, color = \"r\", linestyle = \"--\")\n",
    "plt.show()"
   ]
  },
  {
   "cell_type": "code",
   "execution_count": 69,
   "id": "83c12ce5",
   "metadata": {},
   "outputs": [
    {
     "data": {
      "text/plain": [
       "<AxesSubplot:xlabel='sales', ylabel='Density'>"
      ]
     },
     "execution_count": 69,
     "metadata": {},
     "output_type": "execute_result"
    },
    {
     "data": {
      "image/png": "[encoded data removed]",
      "text/plain": [
       "<Figure size 720x432 with 1 Axes>"
      ]
     },
     "metadata": {
      "needs_background": "light"
     },
     "output_type": "display_data"
    }
   ],
   "source": [
    "sns.kdeplot(residuals)"
   ]
  },
  {
   "cell_type": "code",
   "execution_count": 70,
   "id": "b3c938f6",
   "metadata": {},
   "outputs": [
    {
     "data": {
      "image/png": "[encoded data removed]",
      "text/plain": [
       "<Figure size 720x432 with 1 Axes>"
      ]
     },
     "metadata": {
      "needs_background": "light"
     },
     "output_type": "display_data"
    }
   ],
   "source": [
    "stats.probplot(residuals, dist = \"norm\", plot = plt);"
   ]
  },
  {
   "cell_type": "code",
   "execution_count": 71,
   "id": "a563a9ee",
   "metadata": {},
   "outputs": [
    {
     "data": {
      "text/plain": [
       "-0.9865673346742719"
      ]
     },
     "execution_count": 71,
     "metadata": {},
     "output_type": "execute_result"
    }
   ],
   "source": [
    "skew(residuals)"
   ]
  },
  {
   "cell_type": "code",
   "execution_count": 75,
   "id": "966dece5",
   "metadata": {},
   "outputs": [
    {
     "data": {
      "image/png": "[encoded data removed]",
      "text/plain": [
       "<Figure size 576x396 with 2 Axes>"
      ]
     },
     "metadata": {},
     "output_type": "display_data"
    }
   ],
   "source": [
    "from yellowbrick.regressor import ResidualsPlot\n",
    "\n",
    "# Instantiate the linear model and visualizer\n",
    "model = LinearRegression()\n",
    "visualizer = ResidualsPlot(model)\n",
    "\n",
    "visualizer.fit(X_train, y_train)  # Fit the training data to the visualizer\n",
    "visualizer.score(X_test, y_test)  # Evaluate the model on the test data\n",
    "visualizer.show();                # Finalize and render the figure"
   ]
  },
  {
   "cell_type": "markdown",
   "id": "fe39e665",
   "metadata": {},
   "source": [
    "## Prediction Error for LinearRegression"
   ]
  },
  {
   "cell_type": "code",
   "execution_count": 76,
   "id": "25f33a70",
   "metadata": {},
   "outputs": [
    {
     "data": {
      "image/png": "[encoded data removed]",
      "text/plain": [
       "<Figure size 576x396 with 1 Axes>"
      ]
     },
     "metadata": {},
     "output_type": "display_data"
    }
   ],
   "source": [
    "from yellowbrick.regressor import PredictionError\n",
    "\n",
    "# Instantiate the linear model and visualizer\n",
    "model = LinearRegression()\n",
    "visualizer = PredictionError(model)\n",
    "\n",
    "visualizer.fit(X_train, y_train)  # Fit the training data to the visualizer\n",
    "visualizer.score(X_test, y_test)  # Evaluate the model on the test data\n",
    "visualizer.show();"
   ]
  },
  {
   "cell_type": "code",
   "execution_count": null,
   "id": "0c96bbab",
   "metadata": {},
   "outputs": [],
   "source": []
  },
  {
   "cell_type": "markdown",
   "id": "8cc3b47d",
   "metadata": {},
   "source": [
    "## Retraining Model on Full Data"
   ]
  },
  {
   "cell_type": "code",
   "execution_count": 77,
   "id": "d6e802a9",
   "metadata": {},
   "outputs": [],
   "source": [
    "final_model = LinearRegression()"
   ]
  },
  {
   "cell_type": "code",
   "execution_count": 78,
   "id": "dfab2969",
   "metadata": {},
   "outputs": [
    {
     "data": {
      "text/plain": [
       "LinearRegression()"
      ]
     },
     "execution_count": 78,
     "metadata": {},
     "output_type": "execute_result"
    }
   ],
   "source": [
    "final_model.fit(X, y)"
   ]
  },
  {
   "cell_type": "code",
   "execution_count": null,
   "id": "268ba4b4",
   "metadata": {},
   "outputs": [],
   "source": []
  },
  {
   "cell_type": "markdown",
   "id": "38463b39",
   "metadata": {},
   "source": [
    "## Coefficients"
   ]
  },
  {
   "cell_type": "code",
   "execution_count": 79,
   "id": "2ca90163",
   "metadata": {},
   "outputs": [
    {
     "data": {
      "text/plain": [
       "array([ 0.04576465,  0.18853002, -0.00103749])"
      ]
     },
     "execution_count": 79,
     "metadata": {},
     "output_type": "execute_result"
    }
   ],
   "source": [
    "final_model.coef_"
   ]
  },
  {
   "cell_type": "code",
   "execution_count": 80,
   "id": "d8010af9",
   "metadata": {},
   "outputs": [
    {
     "data": {
      "text/plain": [
       "2.938889369459412"
      ]
     },
     "execution_count": 80,
     "metadata": {},
     "output_type": "execute_result"
    }
   ],
   "source": [
    "final_model.intercept_"
   ]
  },
  {
   "cell_type": "code",
   "execution_count": 81,
   "id": "6e1eb60d",
   "metadata": {},
   "outputs": [
    {
     "data": {
      "text/html": [
       "<div>\n",
       "<style scoped>\n",
       "    .dataframe tbody tr th:only-of-type {\n",
       "        vertical-align: middle;\n",
       "    }\n",
       "\n",
       "    .dataframe tbody tr th {\n",
       "        vertical-align: top;\n",
       "    }\n",
       "\n",
       "    .dataframe thead th {\n",
       "        text-align: right;\n",
       "    }\n",
       "</style>\n",
       "<table border=\"1\" class=\"dataframe\">\n",
       "  <thead>\n",
       "    <tr style=\"text-align: right;\">\n",
       "      <th></th>\n",
       "      <th>Coefficient</th>\n",
       "    </tr>\n",
       "  </thead>\n",
       "  <tbody>\n",
       "    <tr>\n",
       "      <th>TV</th>\n",
       "      <td>0.045765</td>\n",
       "    </tr>\n",
       "    <tr>\n",
       "      <th>radio</th>\n",
       "      <td>0.188530</td>\n",
       "    </tr>\n",
       "    <tr>\n",
       "      <th>newspaper</th>\n",
       "      <td>-0.001037</td>\n",
       "    </tr>\n",
       "  </tbody>\n",
       "</table>\n",
       "</div>"
      ],
      "text/plain": [
       "           Coefficient\n",
       "TV            0.045765\n",
       "radio         0.188530\n",
       "newspaper    -0.001037"
      ]
     },
     "execution_count": 81,
     "metadata": {},
     "output_type": "execute_result"
    }
   ],
   "source": [
    "coef_df = pd.DataFrame(final_model.coef_, index = X.columns, columns = [\"Coefficient\"])\n",
    "coef_df"
   ]
  },
  {
   "cell_type": "code",
   "execution_count": null,
   "id": "68da4f28",
   "metadata": {},
   "outputs": [],
   "source": []
  },
  {
   "cell_type": "markdown",
   "id": "5fac72f3",
   "metadata": {},
   "source": [
    "## Prediction on New Data"
   ]
  },
  {
   "cell_type": "code",
   "execution_count": 82,
   "id": "73bd712e",
   "metadata": {},
   "outputs": [],
   "source": [
    "adv = [[150, 20, 15]]"
   ]
  },
  {
   "cell_type": "code",
   "execution_count": 83,
   "id": "d0a03994",
   "metadata": {},
   "outputs": [
    {
     "data": {
      "text/plain": [
       "array([13.55862413])"
      ]
     },
     "execution_count": 83,
     "metadata": {},
     "output_type": "execute_result"
    }
   ],
   "source": [
    "final_model.predict(adv)"
   ]
  },
  {
   "cell_type": "code",
   "execution_count": 84,
   "id": "aabd43ca",
   "metadata": {},
   "outputs": [
    {
     "data": {
      "text/plain": [
       "13.55868436945941"
      ]
     },
     "execution_count": 84,
     "metadata": {},
     "output_type": "execute_result"
    }
   ],
   "source": [
    "0.045765*150 + 0.188530*20 + -0.001037*15 + final_model.intercept_"
   ]
  },
  {
   "cell_type": "code",
   "execution_count": 85,
   "id": "da7d446b",
   "metadata": {},
   "outputs": [],
   "source": [
    "adv_2 = [[150, 20, 15], [160, 20, 15]]"
   ]
  },
  {
   "cell_type": "code",
   "execution_count": 86,
   "id": "a074f09d",
   "metadata": {},
   "outputs": [
    {
     "data": {
      "text/plain": [
       "array([13.55862413, 14.01627059])"
      ]
     },
     "execution_count": 86,
     "metadata": {},
     "output_type": "execute_result"
    }
   ],
   "source": [
    "final_model.predict(adv_2)"
   ]
  },
  {
   "cell_type": "code",
   "execution_count": null,
   "id": "011bea05",
   "metadata": {},
   "outputs": [],
   "source": []
  },
  {
   "cell_type": "markdown",
   "id": "2b64be18",
   "metadata": {},
   "source": [
    "## The effect of features on the predicted label"
   ]
  },
  {
   "cell_type": "code",
   "execution_count": 88,
   "id": "2cd98073",
   "metadata": {},
   "outputs": [
    {
     "data": {
      "text/html": [
       "<div>\n",
       "<style scoped>\n",
       "    .dataframe tbody tr th:only-of-type {\n",
       "        vertical-align: middle;\n",
       "    }\n",
       "\n",
       "    .dataframe tbody tr th {\n",
       "        vertical-align: top;\n",
       "    }\n",
       "\n",
       "    .dataframe thead th {\n",
       "        text-align: right;\n",
       "    }\n",
       "</style>\n",
       "<table border=\"1\" class=\"dataframe\">\n",
       "  <thead>\n",
       "    <tr style=\"text-align: right;\">\n",
       "      <th></th>\n",
       "      <th>Coefficient</th>\n",
       "    </tr>\n",
       "  </thead>\n",
       "  <tbody>\n",
       "    <tr>\n",
       "      <th>TV</th>\n",
       "      <td>0.045765</td>\n",
       "    </tr>\n",
       "    <tr>\n",
       "      <th>radio</th>\n",
       "      <td>0.188530</td>\n",
       "    </tr>\n",
       "    <tr>\n",
       "      <th>newspaper</th>\n",
       "      <td>-0.001037</td>\n",
       "    </tr>\n",
       "  </tbody>\n",
       "</table>\n",
       "</div>"
      ],
      "text/plain": [
       "           Coefficient\n",
       "TV            0.045765\n",
       "radio         0.188530\n",
       "newspaper    -0.001037"
      ]
     },
     "execution_count": 88,
     "metadata": {},
     "output_type": "execute_result"
    }
   ],
   "source": [
    "coef_df"
   ]
  },
  {
   "cell_type": "code",
   "execution_count": 89,
   "id": "4e3a175f",
   "metadata": {},
   "outputs": [
    {
     "data": {
      "text/plain": [
       "array([[150],\n",
       "       [ 20],\n",
       "       [ 15]])"
      ]
     },
     "execution_count": 89,
     "metadata": {},
     "output_type": "execute_result"
    }
   ],
   "source": [
    "np.array(adv).reshape(3, 1)"
   ]
  },
  {
   "cell_type": "code",
   "execution_count": 90,
   "id": "9de2822a",
   "metadata": {},
   "outputs": [
    {
     "data": {
      "text/html": [
       "<div>\n",
       "<style scoped>\n",
       "    .dataframe tbody tr th:only-of-type {\n",
       "        vertical-align: middle;\n",
       "    }\n",
       "\n",
       "    .dataframe tbody tr th {\n",
       "        vertical-align: top;\n",
       "    }\n",
       "\n",
       "    .dataframe thead th {\n",
       "        text-align: right;\n",
       "    }\n",
       "</style>\n",
       "<table border=\"1\" class=\"dataframe\">\n",
       "  <thead>\n",
       "    <tr style=\"text-align: right;\">\n",
       "      <th></th>\n",
       "      <th>Coefficient</th>\n",
       "    </tr>\n",
       "  </thead>\n",
       "  <tbody>\n",
       "    <tr>\n",
       "      <th>TV</th>\n",
       "      <td>6.864697</td>\n",
       "    </tr>\n",
       "    <tr>\n",
       "      <th>radio</th>\n",
       "      <td>3.770600</td>\n",
       "    </tr>\n",
       "    <tr>\n",
       "      <th>newspaper</th>\n",
       "      <td>-0.015562</td>\n",
       "    </tr>\n",
       "  </tbody>\n",
       "</table>\n",
       "</div>"
      ],
      "text/plain": [
       "           Coefficient\n",
       "TV            6.864697\n",
       "radio         3.770600\n",
       "newspaper    -0.015562"
      ]
     },
     "execution_count": 90,
     "metadata": {},
     "output_type": "execute_result"
    }
   ],
   "source": [
    "coef_df * np.array(adv).reshape(3, 1)"
   ]
  },
  {
   "cell_type": "code",
   "execution_count": 91,
   "id": "64ecd430",
   "metadata": {},
   "outputs": [
    {
     "data": {
      "text/plain": [
       "0.5062974630892729"
      ]
     },
     "execution_count": 91,
     "metadata": {},
     "output_type": "execute_result"
    }
   ],
   "source": [
    "6.864697 / 13.55862413"
   ]
  },
  {
   "cell_type": "code",
   "execution_count": 92,
   "id": "30b79aec",
   "metadata": {},
   "outputs": [
    {
     "data": {
      "text/plain": [
       "0.2780960637191142"
      ]
     },
     "execution_count": 92,
     "metadata": {},
     "output_type": "execute_result"
    }
   ],
   "source": [
    "3.770600 / 13.55862413"
   ]
  },
  {
   "cell_type": "code",
   "execution_count": 93,
   "id": "0cafa605",
   "metadata": {},
   "outputs": [
    {
     "data": {
      "text/plain": [
       "-0.0011477565755043907"
      ]
     },
     "execution_count": 93,
     "metadata": {},
     "output_type": "execute_result"
    }
   ],
   "source": [
    "-0.015562 / 13.55862413"
   ]
  },
  {
   "cell_type": "code",
   "execution_count": null,
   "id": "775711ee",
   "metadata": {},
   "outputs": [],
   "source": []
  }
 ],
 "metadata": {
  "kernelspec": {
   "display_name": "Python 3",
   "language": "python",
   "name": "python3"
  },
  "language_info": {
   "codemirror_mode": {
    "name": "ipython",
    "version": 3
   },
   "file_extension": ".py",
   "mimetype": "text/x-python",
   "name": "python",
   "nbconvert_exporter": "python",
   "pygments_lexer": "ipython3",
   "version": "3.9.5"
  }
 },
 "nbformat": 4,
 "nbformat_minor": 5
}
